{
 "cells": [
  {
   "cell_type": "markdown",
   "id": "49bf5cea-75a5-4aff-8ba0-3db46fb29f86",
   "metadata": {},
   "source": [
    "# 1. Data"
   ]
  },
  {
   "cell_type": "code",
   "execution_count": 1,
   "id": "7a2348d1-3e61-43f0-9aac-fcaf2a6c26ec",
   "metadata": {},
   "outputs": [],
   "source": [
    "import pandas as pd\n",
    "import networkx as nx\n",
    "\n",
    "import graph"
   ]
  },
  {
   "cell_type": "markdown",
   "id": "b43142d4-eb58-4003-80b2-c4befe3e1598",
   "metadata": {},
   "source": [
    "Let's start by loading the datasets and by saving them into three separate dataframes"
   ]
  },
  {
   "cell_type": "code",
   "execution_count": 2,
   "id": "0b0432d9-6d41-42b7-8451-dbd2ee9a390f",
   "metadata": {},
   "outputs": [],
   "source": [
    "# Answers to questions\n",
    "df_a2q = pd.read_table(\"data/sx-stackoverflow-a2q.txt\", \n",
    "                       delimiter=\" \", \n",
    "                       names=[\"src\", \"tgt\", \"timestamp\"],\n",
    "                       nrows=10000)\n",
    "\n",
    "# Comments to answers\n",
    "df_c2a = pd.read_table(\"data/sx-stackoverflow-c2a.txt\", \n",
    "                       delimiter=\" \", \n",
    "                       names=[\"src\", \"tgt\", \"timestamp\"],\n",
    "                       nrows=10000)\n",
    "\n",
    "# Comments to questions\n",
    "df_c2q = pd.read_table(\"data/sx-stackoverflow-c2q.txt\", \n",
    "                       delimiter=\" \", \n",
    "                       names=[\"src\", \"tgt\", \"timestamp\"],\n",
    "                       nrows=10000)"
   ]
  },
  {
   "cell_type": "markdown",
   "id": "ae41bec1-64c6-43aa-8249-8e143736d99c",
   "metadata": {},
   "source": [
    "Let's also convert the UNIX times in the `timestamp` column into `datetime` objects"
   ]
  },
  {
   "cell_type": "code",
   "execution_count": 3,
   "id": "b922c2bf-00af-4401-ba8b-e4b94a7cd0e5",
   "metadata": {},
   "outputs": [],
   "source": [
    "df_a2q[\"timestamp\"] = pd.to_datetime(df_a2q[\"timestamp\"], unit='s')\n",
    "df_c2a[\"timestamp\"] = pd.to_datetime(df_c2a[\"timestamp\"], unit='s')\n",
    "df_c2q[\"timestamp\"] = pd.to_datetime(df_c2q[\"timestamp\"], unit='s')"
   ]
  },
  {
   "cell_type": "markdown",
   "id": "2bc107d8-6328-497c-be5d-cef2aef6c53a",
   "metadata": {},
   "source": [
    "Now we can save all three as separate graphs"
   ]
  },
  {
   "cell_type": "code",
   "execution_count": 4,
   "id": "9db44a45-ed4b-49e8-8fc4-d176e0b5f28e",
   "metadata": {},
   "outputs": [],
   "source": [
    "G_a2q = graph.graph_from_df(df_a2q)   \n",
    "G_c2a = graph.graph_from_df(df_c2a)\n",
    "G_c2q = graph.graph_from_df(df_c2q)"
   ]
  },
  {
   "cell_type": "markdown",
   "id": "a5f7ef5c-ec4c-45e6-a9c0-ffa6047cecc0",
   "metadata": {},
   "source": [
    "in order to merge them into a single graph `G`, which will contain all nodes and edges in the three graphs, assigning to each edge a `timestamp` attribute (with the older date among the three graphs) and a `weight` attribute (i.e. the number of graphs that edge was in)"
   ]
  },
  {
   "cell_type": "code",
   "execution_count": 5,
   "id": "998bb598-ef3e-4ea2-9fad-e82b1bdf8ebc",
   "metadata": {},
   "outputs": [],
   "source": [
    "G = graph.merge_graphs(G_c2a, G_c2q)\n",
    "G = graph.merge_graphs(G, G_a2q)"
   ]
  },
  {
   "cell_type": "markdown",
   "id": "cb16ddef-2a65-48d3-b73f-86fd1814aac8",
   "metadata": {},
   "source": [
    "In order to test if our own implementation works, we can test it against `networkx`'s, and see if the two merged graphs we obtain are the same (i.e. if they have the same nodes and each of those has the same neighbors)."
   ]
  },
  {
   "cell_type": "code",
   "execution_count": 6,
   "id": "65cc9f21-0757-4f32-93d0-a4161fe34331",
   "metadata": {},
   "outputs": [
    {
     "name": "stdout",
     "output_type": "stream",
     "text": [
      "OK! Same graph\n"
     ]
    }
   ],
   "source": [
    "Gx_a2q = graph.graph_from_df(df_a2q, \"networkx\")   \n",
    "Gx_c2a = graph.graph_from_df(df_c2a, \"networkx\")\n",
    "Gx_c2q = graph.graph_from_df(df_c2q, \"networkx\")\n",
    "\n",
    "Gx = nx.compose(Gx_c2a, Gx_c2q)\n",
    "Gx = nx.compose(Gx, Gx_a2q)\n",
    "\n",
    "graph.test_graph(G, Gx)"
   ]
  },
  {
   "cell_type": "markdown",
   "id": "2fa070b1",
   "metadata": {},
   "source": [
    "# 4. Algorithmic question"
   ]
  },
  {
   "cell_type": "markdown",
   "id": "84645c37",
   "metadata": {},
   "source": [
    "A number n of kids are in a camp. Between some k pairs of them (a kid can be part of more than one pairs) there are often fights. At night there are two dormitories where the kids can sleep. We want, if possible, to assign each kid in one of the two dormitories in such a way that each pair of kids that fights often is assigned to a different dormitory. (There are no space problems and the two dormitories can have different number of kids.)"
   ]
  },
  {
   "cell_type": "code",
   "execution_count": null,
   "id": "03978180",
   "metadata": {},
   "outputs": [],
   "source": [
    "n = [1,3,4,56,7,32,2]\n",
    "n.sort()\n",
    "n"
   ]
  },
  {
   "cell_type": "code",
   "execution_count": null,
   "id": "6cf4a30c",
   "metadata": {},
   "outputs": [],
   "source": [
    "def tuple_order(k):\n",
    "    out = []\n",
    "    for pair in k:\n",
    "        if(pair[0] > pair[1]):\n",
    "            pair = list(pair)\n",
    "            temp = pair[0]\n",
    "            pair[0] = pair[1]\n",
    "            pair[1] = temp\n",
    "            pair = tuple(pair)\n",
    "        out.append(pair)\n",
    "    return out"
   ]
  },
  {
   "cell_type": "code",
   "execution_count": null,
   "id": "f3fc06df",
   "metadata": {},
   "outputs": [],
   "source": [
    "# n -> list of kids\n",
    "# k -> list of pairs of kids fighting\n",
    "def dorm_algo(n, k):\n",
    "    # kids in 1st and 2nd dorm\n",
    "    dorm0 = []\n",
    "    dorm1 = []\n",
    "    # Creating a list for kids who don't get in argues\n",
    "    safe = []\n",
    "    \n",
    "    # First of all I order the list of kids...\n",
    "    n.sort()\n",
    "    # ...and the elements of the pairs using the aux function\n",
    "    k = tuple_order(k)\n",
    "    # Then I start checking\n",
    "    for pair in k:\n",
    "        if(pair[0] not in safe): # if kid0 not in safe list...\n",
    "            safe.append(pair[0]) # ...I add him...\n",
    "            dorm0.append(pair[0]) # ...and put him in dorm0\n",
    "        \n",
    "        if(pair[1] not in safe): # if kid1 not in safe list...\n",
    "            safe.append(pair[1]) # ...I add him...\n",
    "            dorm1.append(pair[1]) # ...and put him in dorm1\n",
    "            \n",
    "    # Now I check if kids from the same pairs are in the same dorm\n",
    "    # If so, I block the algorithm\n",
    "    for pair in k:\n",
    "        if(((pair[0] in dorm0) and (pair[1] in dorm0)) or (pair[0] in dorm1) and (pair[1] in dorm1)):\n",
    "            print(\"Nothing can be done!\")\n",
    "            return \n",
    "    \n",
    "    # Now is time to add the other kids in the dorms\n",
    "    for kid in n:\n",
    "        if((kid not in dorm0) and (kid not in dorm1)):\n",
    "            dorm0.append(kid)\n",
    "            \n",
    "    # Print the final dorms with the kids\n",
    "    print(\"Fighting solved! Here the dorms:\")\n",
    "    print(\"First dormitory:\", dorm0)\n",
    "    print(\"Second dormitory:\",dorm1)"
   ]
  },
  {
   "cell_type": "markdown",
   "id": "454e81d4",
   "metadata": {},
   "source": [
    "Let's use as list of kids this:"
   ]
  },
  {
   "cell_type": "code",
   "execution_count": null,
   "id": "51486490",
   "metadata": {},
   "outputs": [],
   "source": [
    "n = [1,2,3,4,5,6]"
   ]
  },
  {
   "cell_type": "code",
   "execution_count": null,
   "id": "7be921af",
   "metadata": {},
   "outputs": [],
   "source": [
    "k = [(3,2), (4,2)]\n",
    "dorm_algo(n, k)"
   ]
  },
  {
   "cell_type": "code",
   "execution_count": null,
   "id": "2511e650",
   "metadata": {},
   "outputs": [],
   "source": [
    "k = [(1,3),(4,1),(3,4)] \n",
    "dorm_algo(n, k)"
   ]
  },
  {
   "cell_type": "code",
   "execution_count": null,
   "id": "98f95eb0",
   "metadata": {},
   "outputs": [],
   "source": [
    "k = [(5,4), (6,5), (2,6)]\n",
    "dorm_algo(n, k)"
   ]
  },
  {
   "cell_type": "code",
   "execution_count": null,
   "id": "9ef89133",
   "metadata": {},
   "outputs": [],
   "source": [
    "k = [(5,4), (6,5)]\n",
    "dorm_algo(n, k)"
   ]
  },
  {
   "cell_type": "code",
   "execution_count": null,
   "id": "d9ab7dab",
   "metadata": {},
   "outputs": [],
   "source": [
    "k = [(1,3),(4,1),(3,2),(2,5),(1,2)]\n",
    "dorm_algo(n,k)"
   ]
  },
  {
   "cell_type": "code",
   "execution_count": null,
   "id": "1fa95158",
   "metadata": {},
   "outputs": [],
   "source": [
    "k = [(1,3),(4,1),(3,2),(2,5),(2,6)]\n",
    "dorm_algo(n,k)"
   ]
  }
 ],
 "metadata": {
  "kernelspec": {
   "display_name": "Python 3 (ipykernel)",
   "language": "python",
   "name": "python3"
  },
  "language_info": {
   "codemirror_mode": {
    "name": "ipython",
    "version": 3
   },
   "file_extension": ".py",
   "mimetype": "text/x-python",
   "name": "python",
   "nbconvert_exporter": "python",
   "pygments_lexer": "ipython3",
   "version": "3.7.11"
  }
 },
 "nbformat": 4,
 "nbformat_minor": 5
}
