{
 "cells": [
  {
   "cell_type": "markdown",
   "id": "2fa070b1",
   "metadata": {},
   "source": [
    "# 4. Algorithmic question"
   ]
  },
  {
   "cell_type": "markdown",
   "id": "84645c37",
   "metadata": {},
   "source": [
    "A number n of kids are in a camp. Between some k pairs of them (a kid can be part of more than one pairs) there are often fights. At night there are two dormitories where the kids can sleep. We want, if possible, to assign each kid in one of the two dormitories in such a way that each pair of kids that fights often is assigned to a different dormitory. (There are no space problems and the two dormitories can have different number of kids.)"
   ]
  },
  {
   "cell_type": "code",
   "execution_count": 5,
   "id": "03978180",
   "metadata": {},
   "outputs": [
    {
     "data": {
      "text/plain": [
       "[1, 3, 4, 56, 7, 32, 2]"
      ]
     },
     "execution_count": 5,
     "metadata": {},
     "output_type": "execute_result"
    }
   ],
   "source": [
    "n = [1,3,4,56,7,32,2]\n",
    "n.sort()\n",
    "n"
   ]
  },
  {
   "cell_type": "code",
   "execution_count": 89,
   "id": "6cf4a30c",
   "metadata": {},
   "outputs": [],
   "source": [
    "def tuple_order(k):\n",
    "    out = []\n",
    "    for pair in k:\n",
    "        if(pair[0] > pair[1]):\n",
    "            pair = list(pair)\n",
    "            temp = pair[0]\n",
    "            pair[0] = pair[1]\n",
    "            pair[1] = temp\n",
    "            pair = tuple(pair)\n",
    "        out.append(pair)\n",
    "    return out"
   ]
  },
  {
   "cell_type": "code",
   "execution_count": 95,
   "id": "f3fc06df",
   "metadata": {},
   "outputs": [],
   "source": [
    "# n -> list of kids\n",
    "# k -> list of pairs of kids fighting\n",
    "def dorm_algo(n, k):\n",
    "    # kids in 1st and 2nd dorm\n",
    "    dorm0 = []\n",
    "    dorm1 = []\n",
    "    # Creating a list for kids who don't get in argues\n",
    "    safe = []\n",
    "    \n",
    "    # First of all I order the list of kids...\n",
    "    n.sort()\n",
    "    # ...and the elements of the pairs using the aux function\n",
    "    k = tuple_order(k)\n",
    "    # Then I start checking\n",
    "    for pair in k:\n",
    "        if(pair[0] not in safe): # if kid0 not in safe list...\n",
    "            safe.append(pair[0]) # ...I add him...\n",
    "            dorm0.append(pair[0]) # ...and put him in dorm0\n",
    "        \n",
    "        if(pair[1] not in safe): # if kid1 not in safe list...\n",
    "            safe.append(pair[1]) # ...I add him...\n",
    "            dorm1.append(pair[1]) # ...and put him in dorm1\n",
    "            \n",
    "    # Now I check if kids from the same pairs are in the same dorm\n",
    "    # If so, I block the algorithm\n",
    "    for pair in k:\n",
    "        if(((pair[0] in dorm0) and (pair[1] in dorm0)) or (pair[0] in dorm1) and (pair[1] in dorm1)):\n",
    "            print(\"Nothing can be done!\")\n",
    "            return \n",
    "    \n",
    "    # Now is time to add the other kids in the dorms\n",
    "    for kid in n:\n",
    "        if((kid not in dorm0) and (kid not in dorm1)):\n",
    "            dorm0.append(kid)\n",
    "            \n",
    "    # Print the final dorms with the kids\n",
    "    print(\"Fighting solved! Here the dorms:\")\n",
    "    print(\"First dormitory:\", dorm0)\n",
    "    print(\"Second dormitory:\",dorm1)"
   ]
  },
  {
   "cell_type": "markdown",
   "id": "454e81d4",
   "metadata": {},
   "source": [
    "Let's use as list of kids this:"
   ]
  },
  {
   "cell_type": "code",
   "execution_count": 62,
   "id": "51486490",
   "metadata": {},
   "outputs": [],
   "source": [
    "n = [1,2,3,4,5,6]"
   ]
  },
  {
   "cell_type": "code",
   "execution_count": 70,
   "id": "7be921af",
   "metadata": {},
   "outputs": [
    {
     "name": "stdout",
     "output_type": "stream",
     "text": [
      "Fighting solved! Here the dorms:\n",
      "First dormitory: [3, 4, 1, 5, 6]\n",
      "Second dormitory: [2]\n"
     ]
    }
   ],
   "source": [
    "k = [(3,2), (4,2)]\n",
    "dorm_algo(n, k)"
   ]
  },
  {
   "cell_type": "code",
   "execution_count": 64,
   "id": "2511e650",
   "metadata": {},
   "outputs": [
    {
     "name": "stdout",
     "output_type": "stream",
     "text": [
      "Nothing can be done!\n"
     ]
    }
   ],
   "source": [
    "k = [(1,3),(4,1),(3,4)] \n",
    "dorm_algo(n, k)"
   ]
  },
  {
   "cell_type": "code",
   "execution_count": 69,
   "id": "98f95eb0",
   "metadata": {},
   "outputs": [
    {
     "name": "stdout",
     "output_type": "stream",
     "text": [
      "Nothing can be done!\n"
     ]
    }
   ],
   "source": [
    "k = [(5,4), (6,5), (2,6)]\n",
    "dorm_algo(n, k)"
   ]
  },
  {
   "cell_type": "code",
   "execution_count": 97,
   "id": "9ef89133",
   "metadata": {},
   "outputs": [
    {
     "name": "stdout",
     "output_type": "stream",
     "text": [
      "Nothing can be done!\n"
     ]
    }
   ],
   "source": [
    "k = [(5,4), (6,5)]\n",
    "dorm_algo(n, k)"
   ]
  },
  {
   "cell_type": "code",
   "execution_count": 99,
   "id": "d9ab7dab",
   "metadata": {},
   "outputs": [
    {
     "name": "stdout",
     "output_type": "stream",
     "text": [
      "Nothing can be done!\n"
     ]
    }
   ],
   "source": [
    "k = [(1,3),(4,1),(3,2),(2,5),(1,2)]\n",
    "dorm_algo(n,k)"
   ]
  },
  {
   "cell_type": "code",
   "execution_count": 100,
   "id": "1fa95158",
   "metadata": {},
   "outputs": [
    {
     "name": "stdout",
     "output_type": "stream",
     "text": [
      "Fighting solved! Here the dorms:\n",
      "First dormitory: [1, 2]\n",
      "Second dormitory: [3, 4, 5, 6]\n"
     ]
    }
   ],
   "source": [
    "k = [(1,3),(4,1),(3,2),(2,5),(2,6)]\n",
    "dorm_algo(n,k)"
   ]
  }
 ],
 "metadata": {
  "kernelspec": {
   "display_name": "Python 3 (ipykernel)",
   "language": "python",
   "name": "python3"
  },
  "language_info": {
   "codemirror_mode": {
    "name": "ipython",
    "version": 3
   },
   "file_extension": ".py",
   "mimetype": "text/x-python",
   "name": "python",
   "nbconvert_exporter": "python",
   "pygments_lexer": "ipython3",
   "version": "3.8.8"
  }
 },
 "nbformat": 4,
 "nbformat_minor": 5
}
