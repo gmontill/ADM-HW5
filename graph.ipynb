{
 "cells": [
  {
   "cell_type": "code",
   "execution_count": 11,
   "metadata": {
    "id": "42xhPciZJwe6"
   },
   "outputs": [],
   "source": [
    "import pandas as pd\n",
    "import numpy as np"
   ]
  },
  {
   "cell_type": "code",
   "execution_count": 191,
   "metadata": {
    "id": "wSWZArbVJ5Hz"
   },
   "outputs": [],
   "source": [
    "df_a2q = pd.read_table(\"data/sx-stackoverflow-a2q.txt\", \n",
    "                       delimiter=\" \", \n",
    "                       names=[\"src\", \"tgt\", \"timestamp\"],\n",
    "                       nrows=10000)\n",
    "\n",
    "df_c2a = pd.read_table(\"data/sx-stackoverflow-c2a.txt\", \n",
    "                       delimiter=\" \", \n",
    "                       names=[\"src\", \"tgt\", \"timestamp\"],\n",
    "                       nrows=10000)\n",
    "\n",
    "df_c2q = pd.read_table(\"data/sx-stackoverflow-c2q.txt\", \n",
    "                       delimiter=\" \", \n",
    "                       names=[\"src\", \"tgt\", \"timestamp\"],\n",
    "                       nrows=10000)"
   ]
  },
  {
   "cell_type": "code",
   "execution_count": 192,
   "metadata": {
    "id": "qIMjDKXBLXr3"
   },
   "outputs": [],
   "source": [
    "df_a2q[\"timestamp\"] = pd.to_datetime(df_a2q[\"timestamp\"], unit='s')\n",
    "df_c2a[\"timestamp\"] = pd.to_datetime(df_c2a[\"timestamp\"], unit='s')\n",
    "df_c2q[\"timestamp\"] = pd.to_datetime(df_c2q[\"timestamp\"], unit='s')"
   ]
  },
  {
   "cell_type": "code",
   "execution_count": 21,
   "metadata": {
    "colab": {
     "base_uri": "https://localhost:8080/",
     "height": 424
    },
    "id": "RghfuU9dMoaT",
    "outputId": "ffd1c61e-9be4-48d9-bbe4-80f79058c63e"
   },
   "outputs": [
    {
     "data": {
      "text/html": [
       "<div>\n",
       "<style scoped>\n",
       "    .dataframe tbody tr th:only-of-type {\n",
       "        vertical-align: middle;\n",
       "    }\n",
       "\n",
       "    .dataframe tbody tr th {\n",
       "        vertical-align: top;\n",
       "    }\n",
       "\n",
       "    .dataframe thead th {\n",
       "        text-align: right;\n",
       "    }\n",
       "</style>\n",
       "<table border=\"1\" class=\"dataframe\">\n",
       "  <thead>\n",
       "    <tr style=\"text-align: right;\">\n",
       "      <th></th>\n",
       "      <th>src</th>\n",
       "      <th>tgt</th>\n",
       "      <th>timestamp</th>\n",
       "    </tr>\n",
       "  </thead>\n",
       "  <tbody>\n",
       "    <tr>\n",
       "      <th>0</th>\n",
       "      <td>4550</td>\n",
       "      <td>4550</td>\n",
       "      <td>2008-09-06 19:26:30</td>\n",
       "    </tr>\n",
       "    <tr>\n",
       "      <th>1</th>\n",
       "      <td>242</td>\n",
       "      <td>184</td>\n",
       "      <td>2008-09-06 20:38:23</td>\n",
       "    </tr>\n",
       "    <tr>\n",
       "      <th>2</th>\n",
       "      <td>4213</td>\n",
       "      <td>4946</td>\n",
       "      <td>2008-09-07 06:15:49</td>\n",
       "    </tr>\n",
       "    <tr>\n",
       "      <th>3</th>\n",
       "      <td>91</td>\n",
       "      <td>91</td>\n",
       "      <td>2008-09-07 06:18:15</td>\n",
       "    </tr>\n",
       "    <tr>\n",
       "      <th>4</th>\n",
       "      <td>2658</td>\n",
       "      <td>1874</td>\n",
       "      <td>2008-09-07 07:18:11</td>\n",
       "    </tr>\n",
       "    <tr>\n",
       "      <th>...</th>\n",
       "      <td>...</td>\n",
       "      <td>...</td>\n",
       "      <td>...</td>\n",
       "    </tr>\n",
       "    <tr>\n",
       "      <th>95</th>\n",
       "      <td>2208</td>\n",
       "      <td>445087</td>\n",
       "      <td>2008-09-10 19:28:51</td>\n",
       "    </tr>\n",
       "    <tr>\n",
       "      <th>96</th>\n",
       "      <td>1908</td>\n",
       "      <td>1228</td>\n",
       "      <td>2008-09-10 19:36:53</td>\n",
       "    </tr>\n",
       "    <tr>\n",
       "      <th>97</th>\n",
       "      <td>2469</td>\n",
       "      <td>1874</td>\n",
       "      <td>2008-09-10 20:03:35</td>\n",
       "    </tr>\n",
       "    <tr>\n",
       "      <th>98</th>\n",
       "      <td>834</td>\n",
       "      <td>834</td>\n",
       "      <td>2008-09-10 20:15:49</td>\n",
       "    </tr>\n",
       "    <tr>\n",
       "      <th>99</th>\n",
       "      <td>1908</td>\n",
       "      <td>5330</td>\n",
       "      <td>2008-09-10 20:22:37</td>\n",
       "    </tr>\n",
       "  </tbody>\n",
       "</table>\n",
       "<p>100 rows × 3 columns</p>\n",
       "</div>"
      ],
      "text/plain": [
       "     src     tgt           timestamp\n",
       "0   4550    4550 2008-09-06 19:26:30\n",
       "1    242     184 2008-09-06 20:38:23\n",
       "2   4213    4946 2008-09-07 06:15:49\n",
       "3     91      91 2008-09-07 06:18:15\n",
       "4   2658    1874 2008-09-07 07:18:11\n",
       "..   ...     ...                 ...\n",
       "95  2208  445087 2008-09-10 19:28:51\n",
       "96  1908    1228 2008-09-10 19:36:53\n",
       "97  2469    1874 2008-09-10 20:03:35\n",
       "98   834     834 2008-09-10 20:15:49\n",
       "99  1908    5330 2008-09-10 20:22:37\n",
       "\n",
       "[100 rows x 3 columns]"
      ]
     },
     "execution_count": 21,
     "metadata": {},
     "output_type": "execute_result"
    }
   ],
   "source": [
    "df_c2q"
   ]
  },
  {
   "cell_type": "code",
   "execution_count": 3,
   "metadata": {
    "id": "z0u9JA7XNrnd"
   },
   "outputs": [],
   "source": [
    "import networkx"
   ]
  },
  {
   "cell_type": "code",
   "execution_count": 5,
   "metadata": {},
   "outputs": [],
   "source": [
    "g = networkx.Graph()"
   ]
  },
  {
   "cell_type": "code",
   "execution_count": 45,
   "metadata": {},
   "outputs": [],
   "source": [
    "g.add_node(\"b\")\n",
    "g.add_edge(\"a\", \"b\")"
   ]
  },
  {
   "cell_type": "code",
   "execution_count": 84,
   "metadata": {},
   "outputs": [
    {
     "data": {
      "text/plain": [
       "AtlasView({'a': {}})"
      ]
     },
     "execution_count": 84,
     "metadata": {},
     "output_type": "execute_result"
    }
   ],
   "source": [
    "g[\"b\"]"
   ]
  },
  {
   "cell_type": "code",
   "execution_count": 150,
   "metadata": {},
   "outputs": [
    {
     "data": {
      "text/plain": [
       "1"
      ]
     },
     "execution_count": 150,
     "metadata": {},
     "output_type": "execute_result"
    }
   ],
   "source": [
    "g.size()"
   ]
  },
  {
   "cell_type": "code",
   "execution_count": 259,
   "metadata": {},
   "outputs": [],
   "source": [
    "import graph\n",
    "from importlib import reload\n",
    "reload(graph)\n",
    "\n",
    "G = graph.Graph()"
   ]
  },
  {
   "cell_type": "code",
   "execution_count": 260,
   "metadata": {},
   "outputs": [],
   "source": [
    "counter = 0\n",
    "\n",
    "for idx in df_a2q.index:\n",
    "    row = df_a2q.iloc[idx]\n",
    "    G.add_edge(row[\"src\"], row[\"tgt\"], {\"time\": row[\"timestamp\"],\n",
    "                                        \"type\": \"a2q\"})\n",
    "    \n",
    "    if row[\"src\"] == row[\"tgt\"]: counter += 1"
   ]
  },
  {
   "cell_type": "code",
   "execution_count": 261,
   "metadata": {},
   "outputs": [
    {
     "name": "stdout",
     "output_type": "stream",
     "text": [
      "1505 nodes\n",
      "10000 edges\n"
     ]
    }
   ],
   "source": [
    "G.summary()"
   ]
  },
  {
   "cell_type": "code",
   "execution_count": 264,
   "metadata": {},
   "outputs": [
    {
     "data": {
      "text/plain": [
       "{'115',\n",
       " '1693',\n",
       " '19',\n",
       " '1982',\n",
       " '22',\n",
       " '227',\n",
       " '234',\n",
       " '2424',\n",
       " '26',\n",
       " '404',\n",
       " '46',\n",
       " '72',\n",
       " '8',\n",
       " '905'}"
      ]
     },
     "execution_count": 264,
     "metadata": {},
     "output_type": "execute_result"
    }
   ],
   "source": [
    "G.neighbors[\"9\"]"
   ]
  },
  {
   "cell_type": "code",
   "execution_count": null,
   "metadata": {},
   "outputs": [],
   "source": []
  }
 ],
 "metadata": {
  "colab": {
   "name": "Untitled0.ipynb",
   "provenance": []
  },
  "kernelspec": {
   "display_name": "Python 3 (ipykernel)",
   "language": "python",
   "name": "python3"
  },
  "language_info": {
   "codemirror_mode": {
    "name": "ipython",
    "version": 3
   },
   "file_extension": ".py",
   "mimetype": "text/x-python",
   "name": "python",
   "nbconvert_exporter": "python",
   "pygments_lexer": "ipython3",
   "version": "3.7.11"
  }
 },
 "nbformat": 4,
 "nbformat_minor": 4
}
