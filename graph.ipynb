{
 "cells": [
  {
   "cell_type": "code",
   "execution_count": 1,
   "metadata": {
    "id": "42xhPciZJwe6"
   },
   "outputs": [],
   "source": [
    "import pandas as pd\n",
    "import numpy as np"
   ]
  },
  {
   "cell_type": "code",
   "execution_count": 219,
   "metadata": {
    "id": "wSWZArbVJ5Hz"
   },
   "outputs": [],
   "source": [
    "df_a2q = pd.read_table(\"data/sx-stackoverflow-a2q.txt\", \n",
    "                       delimiter=\" \", \n",
    "                       names=[\"src\", \"tgt\", \"timestamp\"],\n",
    "                       nrows=10000)\n",
    "\n",
    "df_c2a = pd.read_table(\"data/sx-stackoverflow-c2a.txt\", \n",
    "                       delimiter=\" \", \n",
    "                       names=[\"src\", \"tgt\", \"timestamp\"],\n",
    "                       nrows=10000)\n",
    "\n",
    "df_c2q = pd.read_table(\"data/sx-stackoverflow-c2q.txt\", \n",
    "                       delimiter=\" \", \n",
    "                       names=[\"src\", \"tgt\", \"timestamp\"],\n",
    "                       nrows=10000)\n",
    "\n",
    "df_a2q[\"timestamp\"] = pd.to_datetime(df_a2q[\"timestamp\"], unit='s')\n",
    "df_c2a[\"timestamp\"] = pd.to_datetime(df_c2a[\"timestamp\"], unit='s')\n",
    "df_c2q[\"timestamp\"] = pd.to_datetime(df_c2q[\"timestamp\"], unit='s')"
   ]
  },
  {
   "cell_type": "code",
   "execution_count": 254,
   "metadata": {
    "id": "z0u9JA7XNrnd"
   },
   "outputs": [],
   "source": [
    "import networkx as nx\n",
    "\n",
    "import graph\n",
    "from importlib import reload\n",
    "reload(graph)\n",
    "\n",
    "from tqdm import tqdm"
   ]
  },
  {
   "cell_type": "code",
   "execution_count": 221,
   "metadata": {},
   "outputs": [
    {
     "name": "stderr",
     "output_type": "stream",
     "text": [
      "100%|████████████████████████████████████████████████████████████████████████████████████████████████████████████████████████████████████████████████████████| 10000/10000 [00:02<00:00, 3507.62it/s]\n",
      "100%|████████████████████████████████████████████████████████████████████████████████████████████████████████████████████████████████████████████████████████| 10000/10000 [00:02<00:00, 4260.24it/s]\n",
      "100%|████████████████████████████████████████████████████████████████████████████████████████████████████████████████████████████████████████████████████████| 10000/10000 [00:02<00:00, 4418.77it/s]\n",
      "100%|████████████████████████████████████████████████████████████████████████████████████████████████████████████████████████████████████████████████████████| 10000/10000 [00:02<00:00, 3666.05it/s]\n"
     ]
    }
   ],
   "source": [
    "G_a2q = graph.Graph()\n",
    "\n",
    "for idx in tqdm(df_a2q.index):\n",
    "    row = df_a2q.iloc[idx]\n",
    "    G_a2q.add_edge(row[\"src\"], row[\"tgt\"], \n",
    "                   {\"time\": row[\"timestamp\"], \"weight\": 1})\n",
    "    \n",
    "G_c2a = graph.Graph()\n",
    "\n",
    "for idx in tqdm(df_c2a.index):\n",
    "    row = df_c2a.iloc[idx]\n",
    "    G_c2a.add_edge(row[\"src\"], row[\"tgt\"], \n",
    "                   {\"time\": row[\"timestamp\"], \"weight\": 1})  \n",
    "    \n",
    "G_c2q = graph.Graph()\n",
    "\n",
    "for idx in tqdm(df_c2q.index):\n",
    "    row = df_c2q.iloc[idx]\n",
    "    G_c2q.add_edge(row[\"src\"], row[\"tgt\"], \n",
    "                   {\"time\": row[\"timestamp\"], \"weight\": 1})"
   ]
  },
  {
   "cell_type": "code",
   "execution_count": 251,
   "metadata": {},
   "outputs": [],
   "source": [
    "g = graph.merge_graphs(G_c2a, G_c2q)\n",
    "g = graph.merge_graphs(g, G_a2q)"
   ]
  },
  {
   "cell_type": "code",
   "execution_count": 255,
   "metadata": {},
   "outputs": [
    {
     "name": "stderr",
     "output_type": "stream",
     "text": [
      "100%|████████████████████████████████████████████████████████████████████████████████████████████████████████████████████████████████████████████████████████| 10000/10000 [00:02<00:00, 4778.56it/s]\n",
      "100%|████████████████████████████████████████████████████████████████████████████████████████████████████████████████████████████████████████████████████████| 10000/10000 [00:02<00:00, 3598.27it/s]\n",
      "100%|████████████████████████████████████████████████████████████████████████████████████████████████████████████████████████████████████████████████████████| 10000/10000 [00:02<00:00, 4450.83it/s]\n"
     ]
    }
   ],
   "source": [
    "G_a2q = nx.Graph()\n",
    "\n",
    "for idx in tqdm(df_a2q.index):\n",
    "    row = df_a2q.iloc[idx]\n",
    "    G_a2q.add_edge(row[\"src\"], row[\"tgt\"])\n",
    "    \n",
    "G_c2a = nx.Graph()\n",
    "\n",
    "for idx in tqdm(df_c2a.index):\n",
    "    row = df_c2a.iloc[idx]\n",
    "    G_c2a.add_edge(row[\"src\"], row[\"tgt\"])  \n",
    "    \n",
    "G_c2q = nx.Graph()\n",
    "\n",
    "for idx in tqdm(df_c2q.index):\n",
    "    row = df_c2q.iloc[idx]\n",
    "    G_c2q.add_edge(row[\"src\"], row[\"tgt\"])"
   ]
  },
  {
   "cell_type": "code",
   "execution_count": 258,
   "metadata": {},
   "outputs": [],
   "source": [
    "gx = nx.compose(G_c2a, G_c2q)\n",
    "gx = nx.compose(gx, G_a2q)"
   ]
  },
  {
   "cell_type": "code",
   "execution_count": 309,
   "metadata": {},
   "outputs": [
    {
     "data": {
      "text/plain": [
       "6858"
      ]
     },
     "execution_count": 309,
     "metadata": {},
     "output_type": "execute_result"
    }
   ],
   "source": [
    "len(g.nodes)"
   ]
  },
  {
   "cell_type": "code",
   "execution_count": 310,
   "metadata": {},
   "outputs": [
    {
     "data": {
      "text/plain": [
       "6858"
      ]
     },
     "execution_count": 310,
     "metadata": {},
     "output_type": "execute_result"
    }
   ],
   "source": [
    "len(gx.nodes)"
   ]
  },
  {
   "cell_type": "code",
   "execution_count": 302,
   "metadata": {},
   "outputs": [
    {
     "data": {
      "text/plain": [
       "AtlasView({714: {}, 18338: {}, 14131: {}})"
      ]
     },
     "execution_count": 302,
     "metadata": {},
     "output_type": "execute_result"
    }
   ],
   "source": [
    "gx[14131]"
   ]
  },
  {
   "cell_type": "code",
   "execution_count": 286,
   "metadata": {},
   "outputs": [
    {
     "data": {
      "text/plain": [
       "{'14131', '18338', '714'}"
      ]
     },
     "execution_count": 286,
     "metadata": {},
     "output_type": "execute_result"
    }
   ],
   "source": [
    "g.neighbors[\"14131\"]"
   ]
  },
  {
   "cell_type": "code",
   "execution_count": 308,
   "metadata": {},
   "outputs": [
    {
     "data": {
      "text/plain": [
       "AtlasView({4798: {}, 3408: {}, 1554: {}, 3535: {}, 3275: {}, 8220: {}, 1000: {}, 25891: {}, 3295: {}, 791: {}, 10024: {}, 1: {}, 86: {}, 137: {}, 486: {}, 637: {}, 718: {}, 299: {}, 1124: {}, 1870: {}, 1650: {}, 1168: {}, 1730: {}, 1904: {}, 1970: {}, 1693: {}, 1786: {}, 2134: {}, 1483: {}})"
      ]
     },
     "execution_count": 308,
     "metadata": {},
     "output_type": "execute_result"
    }
   ],
   "source": [
    "gx[1000]"
   ]
  },
  {
   "cell_type": "code",
   "execution_count": 307,
   "metadata": {},
   "outputs": [
    {
     "data": {
      "text/plain": [
       "{'1',\n",
       " '1000',\n",
       " '10024',\n",
       " '1124',\n",
       " '1168',\n",
       " '137',\n",
       " '1483',\n",
       " '1554',\n",
       " '1650',\n",
       " '1693',\n",
       " '1730',\n",
       " '1786',\n",
       " '1870',\n",
       " '1904',\n",
       " '1970',\n",
       " '2134',\n",
       " '25891',\n",
       " '299',\n",
       " '3275',\n",
       " '3295',\n",
       " '3408',\n",
       " '3535',\n",
       " '4798',\n",
       " '486',\n",
       " '637',\n",
       " '718',\n",
       " '791',\n",
       " '8220',\n",
       " '86'}"
      ]
     },
     "execution_count": 307,
     "metadata": {},
     "output_type": "execute_result"
    }
   ],
   "source": [
    "g.neighbors[\"1000\"]"
   ]
  },
  {
   "cell_type": "code",
   "execution_count": null,
   "metadata": {},
   "outputs": [],
   "source": []
  }
 ],
 "metadata": {
  "colab": {
   "name": "Untitled0.ipynb",
   "provenance": []
  },
  "kernelspec": {
   "display_name": "Python 3 (ipykernel)",
   "language": "python",
   "name": "python3"
  },
  "language_info": {
   "codemirror_mode": {
    "name": "ipython",
    "version": 3
   },
   "file_extension": ".py",
   "mimetype": "text/x-python",
   "name": "python",
   "nbconvert_exporter": "python",
   "pygments_lexer": "ipython3",
   "version": "3.7.11"
  }
 },
 "nbformat": 4,
 "nbformat_minor": 4
}
